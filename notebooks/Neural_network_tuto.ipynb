{
 "cells": [
  {
   "cell_type": "markdown",
   "id": "b9d43217",
   "metadata": {},
   "source": []
  },
  {
   "cell_type": "markdown",
   "id": "c655658d",
   "metadata": {},
   "source": [
    "# Neural Network Tutorial"
   ]
  },
  {
   "cell_type": "code",
   "execution_count": 13,
   "id": "8c71593d",
   "metadata": {},
   "outputs": [],
   "source": [
    "from tensorflow.keras.datasets import fashion_mnist\n",
    "from tensorflow.keras.models import Sequential\n",
    "from tensorflow.keras.layers import Dense\n",
    "from tensorflow.keras.utils import to_categorical"
   ]
  },
  {
   "cell_type": "code",
   "execution_count": 14,
   "id": "9fe5992d",
   "metadata": {},
   "outputs": [],
   "source": [
    "#Load dataset \n",
    "(x_train, y_train), (x_test, y_test) = keras.datasets.fashion_mnist.load_data()\n"
   ]
  },
  {
   "cell_type": "markdown",
   "id": "4fabbc3a",
   "metadata": {},
   "source": [
    "# Creation of the neural Network"
   ]
  },
  {
   "cell_type": "markdown",
   "id": "203a070d",
   "metadata": {},
   "source": [
    "Important points\n",
    "\n",
    "For every neural network project you will do in the future, these rules always apply.\n",
    "\n",
    "    Start simple. Use a single layer perceptron and evaluate the result. If it is good, then proceed to deployment.\n",
    "    If the previous step is not good enough, try to get your network wider and/or deeper. Add several neurons in your single-layer perceptron. Or, add one layer into the existing network. Evaluate and, if it is good, proceed to deployment. If not, then iterate by adding more neurons or layers.\n",
    "    When, after adding several more layers into your network, but the results are still not good, then maybe you need to change your network architecture. Use Convolutional Neural Network (CNN) for images or Recurring Neural Network for time-series and texts."
   ]
  },
  {
   "cell_type": "code",
   "execution_count": null,
   "id": "8acf0cc0",
   "metadata": {},
   "outputs": [],
   "source": [
    "#Because of our perceptron only able to read one-dimensional data, let's flatten them.\n",
    "x_train = x_train.reshape(x_train.shape[0], -1) / 255.0\n",
    "x_test = x_test.reshape(x_test.shape[0], -1) / 255.0\n",
    "y_train = to_categorical(y_train)\n",
    "y_test = to_categorical(y_test)"
   ]
  },
  {
   "cell_type": "code",
   "execution_count": null,
   "id": "2d4f766e",
   "metadata": {},
   "outputs": [],
   "source": []
  },
  {
   "cell_type": "code",
   "execution_count": null,
   "id": "0161079d",
   "metadata": {},
   "outputs": [],
   "source": []
  }
 ],
 "metadata": {
  "kernelspec": {
   "display_name": "ML5",
   "language": "python",
   "name": "python3"
  },
  "language_info": {
   "codemirror_mode": {
    "name": "ipython",
    "version": 3
   },
   "file_extension": ".py",
   "mimetype": "text/x-python",
   "name": "python",
   "nbconvert_exporter": "python",
   "pygments_lexer": "ipython3",
   "version": "3.11.13"
  }
 },
 "nbformat": 4,
 "nbformat_minor": 5
}
