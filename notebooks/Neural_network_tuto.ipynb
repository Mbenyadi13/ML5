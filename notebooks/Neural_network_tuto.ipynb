{
 "cells": [
  {
   "cell_type": "markdown",
   "id": "b9d43217",
   "metadata": {},
   "source": []
  },
  {
   "cell_type": "markdown",
   "id": "c655658d",
   "metadata": {},
   "source": [
    "# Neural Network Tutorial"
   ]
  },
  {
   "cell_type": "code",
   "execution_count": 2,
   "id": "8c71593d",
   "metadata": {},
   "outputs": [
    {
     "name": "stderr",
     "output_type": "stream",
     "text": [
      "2025-10-22 11:27:56.955351: I tensorflow/core/platform/cpu_feature_guard.cc:210] This TensorFlow binary is optimized to use available CPU instructions in performance-critical operations.\n",
      "To enable the following instructions: SSE4.1 SSE4.2 AVX AVX2 FMA, in other operations, rebuild TensorFlow with the appropriate compiler flags.\n"
     ]
    }
   ],
   "source": [
    "from tensorflow.keras.datasets import fashion_mnist\n",
    "from tensorflow.keras.models import Sequential\n",
    "from tensorflow.keras.layers import Dense\n",
    "from tensorflow.keras.utils import to_categorical"
   ]
  },
  {
   "cell_type": "code",
   "execution_count": 3,
   "id": "9fe5992d",
   "metadata": {},
   "outputs": [],
   "source": [
    "#Load dataset \n",
    "(x_train, y_train), (x_test, y_test) = fashion_mnist.load_data()\n"
   ]
  },
  {
   "cell_type": "markdown",
   "id": "4fabbc3a",
   "metadata": {},
   "source": [
    "# Creation of the neural Network"
   ]
  },
  {
   "cell_type": "markdown",
   "id": "203a070d",
   "metadata": {},
   "source": [
    "Important points\n",
    "\n",
    "For every neural network project you will do in the future, these rules always apply.\n",
    "\n",
    "    Start simple. Use a single layer perceptron and evaluate the result. If it is good, then proceed to deployment.\n",
    "    If the previous step is not good enough, try to get your network wider and/or deeper. Add several neurons in your single-layer perceptron. Or, add one layer into the existing network. Evaluate and, if it is good, proceed to deployment. If not, then iterate by adding more neurons or layers.\n",
    "    When, after adding several more layers into your network, but the results are still not good, then maybe you need to change your network architecture. Use Convolutional Neural Network (CNN) for images or Recurring Neural Network for time-series and texts."
   ]
  },
  {
   "cell_type": "code",
   "execution_count": 4,
   "id": "8acf0cc0",
   "metadata": {},
   "outputs": [],
   "source": [
    "#Because of our perceptron only able to read one-dimensional data, let's flatten them.\n",
    "x_train = x_train.reshape(x_train.shape[0], -1) / 255.0\n",
    "x_test = x_test.reshape(x_test.shape[0], -1) / 255.0\n",
    "y_train = to_categorical(y_train)\n",
    "y_test = to_categorical(y_test)"
   ]
  },
  {
   "cell_type": "code",
   "execution_count": 5,
   "id": "00c1ad9e",
   "metadata": {},
   "outputs": [
    {
     "name": "stdout",
     "output_type": "stream",
     "text": [
      "(60000, 10)\n",
      "(10000, 10)\n"
     ]
    }
   ],
   "source": [
    "print(y_train.shape)\n",
    "print(y_test.shape)\n",
    "\n",
    "#Your training data x_train is transformed from 60,000 x 28 x 28 to 60,000 x 784. \n",
    "#Your testing data x_test follows suit, from 10,000 x 28 x 28 to 10,000 x 784."
   ]
  },
  {
   "cell_type": "markdown",
   "id": "c4eaf65a",
   "metadata": {},
   "source": [
    "For the hidden layer, let's set an arbitrary number of neurons. \n",
    "\n",
    "The number should be simple and small enough to follow our step number 1. Let's choose 10 neurons."
   ]
  },
  {
   "cell_type": "markdown",
   "id": "0fa1cfe5",
   "metadata": {},
   "source": [
    "for the output layer, because we have ten categories to categorize, we need to set it to 10 output neurons.\n",
    "\n",
    "For each image, each of these neurons will be filled with 1 if it is the correct category and 0 if not."
   ]
  },
  {
   "cell_type": "markdown",
   "id": "e2b14c8d",
   "metadata": {},
   "source": [
    "The output layer is called One-Hot Vector, when it is hot then the value is 1, the others should be all zeros."
   ]
  },
  {
   "cell_type": "markdown",
   "id": "56dcc8e9",
   "metadata": {},
   "source": [
    "# Architecture"
   ]
  },
  {
   "cell_type": "code",
   "execution_count": 6,
   "id": "2d4f766e",
   "metadata": {},
   "outputs": [
    {
     "name": "stderr",
     "output_type": "stream",
     "text": [
      "/home/melanie.benyadi@Digital-Grenoble.local/anaconda3/envs/ML5/lib/python3.11/site-packages/keras/src/layers/core/dense.py:92: UserWarning: Do not pass an `input_shape`/`input_dim` argument to a layer. When using Sequential models, prefer using an `Input(shape)` object as the first layer in the model instead.\n",
      "  super().__init__(activity_regularizer=activity_regularizer, **kwargs)\n"
     ]
    }
   ],
   "source": [
    "model = Sequential()\n",
    "model.add(Dense(10, input_dim=784, activation='relu'))\n",
    "model.add(Dense(10, activation='softmax'))\n",
    "model.compile(loss='categorical_crossentropy', optimizer='adam', metrics=['accuracy'])"
   ]
  },
  {
   "cell_type": "markdown",
   "id": "5c6fb8b8",
   "metadata": {},
   "source": [
    "The Sequential model is the easiest model Keras has. The first line of model.add method is adding your hidden layer with 10 cells, coming from 784 input cells.\n",
    "\n",
    "The second add method is adding your output layer to the network. This has 10 cells as I elaborated before.\n",
    "\n",
    "The Relu and Softmax activation options are non-linear. Being able to use non-linear data makes Neural Network particularly useful. Generally, neural networks can map any data distribution at any level of complexity.\n",
    "\n",
    "    Use Relu whenever possible, on every hidden layer.\n",
    "\n",
    "    Use Softmax on output layers with more than two categories to be predicted.\n",
    "    \n",
    "    Use Sigmoid on an output layer with two categories.\n",
    "\n",
    "After creating your model, call compile method to finish your model. It usually takes three parameters.\n",
    "\n",
    " Always use categorical_crossentropy for multi-categories, \n",
    " \n",
    " and binary_crossentropy for two categories. \n",
    " \n",
    " Use adam or rmsprop as the optimizer since both of them are pretty good. And you need accuracy as the metric to check your network performance."
   ]
  },
  {
   "cell_type": "markdown",
   "id": "3cbd8939",
   "metadata": {},
   "source": [
    "# Training the model"
   ]
  },
  {
   "cell_type": "code",
   "execution_count": 7,
   "id": "0161079d",
   "metadata": {},
   "outputs": [
    {
     "name": "stdout",
     "output_type": "stream",
     "text": [
      "Epoch 1/10\n",
      "\u001b[1m1688/1688\u001b[0m \u001b[32m━━━━━━━━━━━━━━━━━━━━\u001b[0m\u001b[37m\u001b[0m \u001b[1m3s\u001b[0m 1ms/step - accuracy: 0.7580 - loss: 0.7135 - val_accuracy: 0.8282 - val_loss: 0.5082\n",
      "Epoch 2/10\n",
      "\u001b[1m1688/1688\u001b[0m \u001b[32m━━━━━━━━━━━━━━━━━━━━\u001b[0m\u001b[37m\u001b[0m \u001b[1m2s\u001b[0m 1ms/step - accuracy: 0.8349 - loss: 0.4795 - val_accuracy: 0.8340 - val_loss: 0.4652\n",
      "Epoch 3/10\n",
      "\u001b[1m1688/1688\u001b[0m \u001b[32m━━━━━━━━━━━━━━━━━━━━\u001b[0m\u001b[37m\u001b[0m \u001b[1m2s\u001b[0m 1ms/step - accuracy: 0.8473 - loss: 0.4437 - val_accuracy: 0.8425 - val_loss: 0.4385\n",
      "Epoch 4/10\n",
      "\u001b[1m1688/1688\u001b[0m \u001b[32m━━━━━━━━━━━━━━━━━━━━\u001b[0m\u001b[37m\u001b[0m \u001b[1m2s\u001b[0m 1ms/step - accuracy: 0.8522 - loss: 0.4255 - val_accuracy: 0.8435 - val_loss: 0.4402\n",
      "Epoch 5/10\n",
      "\u001b[1m1688/1688\u001b[0m \u001b[32m━━━━━━━━━━━━━━━━━━━━\u001b[0m\u001b[37m\u001b[0m \u001b[1m2s\u001b[0m 1ms/step - accuracy: 0.8570 - loss: 0.4131 - val_accuracy: 0.8375 - val_loss: 0.4535\n",
      "Epoch 6/10\n",
      "\u001b[1m1688/1688\u001b[0m \u001b[32m━━━━━━━━━━━━━━━━━━━━\u001b[0m\u001b[37m\u001b[0m \u001b[1m2s\u001b[0m 1ms/step - accuracy: 0.8588 - loss: 0.4052 - val_accuracy: 0.8503 - val_loss: 0.4318\n",
      "Epoch 7/10\n",
      "\u001b[1m1688/1688\u001b[0m \u001b[32m━━━━━━━━━━━━━━━━━━━━\u001b[0m\u001b[37m\u001b[0m \u001b[1m2s\u001b[0m 1ms/step - accuracy: 0.8610 - loss: 0.3990 - val_accuracy: 0.8512 - val_loss: 0.4257\n",
      "Epoch 8/10\n",
      "\u001b[1m1688/1688\u001b[0m \u001b[32m━━━━━━━━━━━━━━━━━━━━\u001b[0m\u001b[37m\u001b[0m \u001b[1m2s\u001b[0m 1ms/step - accuracy: 0.8626 - loss: 0.3938 - val_accuracy: 0.8590 - val_loss: 0.4112\n",
      "Epoch 9/10\n",
      "\u001b[1m1688/1688\u001b[0m \u001b[32m━━━━━━━━━━━━━━━━━━━━\u001b[0m\u001b[37m\u001b[0m \u001b[1m2s\u001b[0m 1ms/step - accuracy: 0.8648 - loss: 0.3901 - val_accuracy: 0.8540 - val_loss: 0.4209\n",
      "Epoch 10/10\n",
      "\u001b[1m1688/1688\u001b[0m \u001b[32m━━━━━━━━━━━━━━━━━━━━\u001b[0m\u001b[37m\u001b[0m \u001b[1m2s\u001b[0m 1ms/step - accuracy: 0.8647 - loss: 0.3860 - val_accuracy: 0.8538 - val_loss: 0.4173\n"
     ]
    },
    {
     "data": {
      "text/plain": [
       "<keras.src.callbacks.history.History at 0x70f8fbbb0510>"
      ]
     },
     "execution_count": 7,
     "metadata": {},
     "output_type": "execute_result"
    }
   ],
   "source": [
    "model.fit(x_train, y_train, epochs=10, validation_split=0.1)\n",
    "\n",
    "#we will use 10% of the training data as the validation data, hence validation_split was set to 0.1.\n",
    "#epochs is the number of training loops we will do. One epoch will expose all of our training data once to the network.\n",
    "# More epochs means the network will know better about our data."
   ]
  },
  {
   "cell_type": "markdown",
   "id": "9a21bde8",
   "metadata": {},
   "source": [
    "## Testing dataset \n"
   ]
  },
  {
   "cell_type": "code",
   "execution_count": 8,
   "id": "072c8109",
   "metadata": {},
   "outputs": [
    {
     "name": "stdout",
     "output_type": "stream",
     "text": [
      "\u001b[1m313/313\u001b[0m \u001b[32m━━━━━━━━━━━━━━━━━━━━\u001b[0m\u001b[37m\u001b[0m \u001b[1m0s\u001b[0m 1ms/step - accuracy: 0.8451 - loss: 0.4497\n",
      "0.8450999855995178\n"
     ]
    }
   ],
   "source": [
    "_, test_acc = model.evaluate(x_test, y_test)\n",
    "print(test_acc)"
   ]
  },
  {
   "cell_type": "markdown",
   "id": "d492ad0f",
   "metadata": {},
   "source": [
    "# Accuracy "
   ]
  },
  {
   "cell_type": "markdown",
   "id": "ff65a7f6",
   "metadata": {},
   "source": [
    "This is a metric to measure how good the performance of your network is. 84% accuracy on test data means the network guessed right for around 8400 images from the 10K test data.\n",
    "\n",
    "A higher accuracy on test data means a better network. If you think the accuracy should be higher, maybe you need the next step(s) in building your Neural Network."
   ]
  },
  {
   "cell_type": "markdown",
   "id": "56fe34ee",
   "metadata": {},
   "source": [
    "# Make the network wider"
   ]
  },
  {
   "cell_type": "code",
   "execution_count": 9,
   "id": "ef7f67d7",
   "metadata": {},
   "outputs": [
    {
     "name": "stdout",
     "output_type": "stream",
     "text": [
      "Epoch 1/10\n",
      "\u001b[1m1688/1688\u001b[0m \u001b[32m━━━━━━━━━━━━━━━━━━━━\u001b[0m\u001b[37m\u001b[0m \u001b[1m3s\u001b[0m 2ms/step - accuracy: 0.8129 - loss: 0.5449 - val_accuracy: 0.8527 - val_loss: 0.4316\n",
      "Epoch 2/10\n",
      "\u001b[1m1688/1688\u001b[0m \u001b[32m━━━━━━━━━━━━━━━━━━━━\u001b[0m\u001b[37m\u001b[0m \u001b[1m3s\u001b[0m 2ms/step - accuracy: 0.8578 - loss: 0.4055 - val_accuracy: 0.8603 - val_loss: 0.4032\n",
      "Epoch 3/10\n",
      "\u001b[1m1688/1688\u001b[0m \u001b[32m━━━━━━━━━━━━━━━━━━━━\u001b[0m\u001b[37m\u001b[0m \u001b[1m3s\u001b[0m 2ms/step - accuracy: 0.8675 - loss: 0.3700 - val_accuracy: 0.8603 - val_loss: 0.3997\n",
      "Epoch 4/10\n",
      "\u001b[1m1688/1688\u001b[0m \u001b[32m━━━━━━━━━━━━━━━━━━━━\u001b[0m\u001b[37m\u001b[0m \u001b[1m3s\u001b[0m 2ms/step - accuracy: 0.8755 - loss: 0.3459 - val_accuracy: 0.8657 - val_loss: 0.3904\n",
      "Epoch 5/10\n",
      "\u001b[1m1688/1688\u001b[0m \u001b[32m━━━━━━━━━━━━━━━━━━━━\u001b[0m\u001b[37m\u001b[0m \u001b[1m3s\u001b[0m 2ms/step - accuracy: 0.8816 - loss: 0.3291 - val_accuracy: 0.8667 - val_loss: 0.3714\n",
      "Epoch 6/10\n",
      "\u001b[1m1688/1688\u001b[0m \u001b[32m━━━━━━━━━━━━━━━━━━━━\u001b[0m\u001b[37m\u001b[0m \u001b[1m3s\u001b[0m 2ms/step - accuracy: 0.8846 - loss: 0.3143 - val_accuracy: 0.8728 - val_loss: 0.3490\n",
      "Epoch 7/10\n",
      "\u001b[1m1688/1688\u001b[0m \u001b[32m━━━━━━━━━━━━━━━━━━━━\u001b[0m\u001b[37m\u001b[0m \u001b[1m3s\u001b[0m 2ms/step - accuracy: 0.8891 - loss: 0.3017 - val_accuracy: 0.8745 - val_loss: 0.3514\n",
      "Epoch 8/10\n",
      "\u001b[1m1688/1688\u001b[0m \u001b[32m━━━━━━━━━━━━━━━━━━━━\u001b[0m\u001b[37m\u001b[0m \u001b[1m3s\u001b[0m 2ms/step - accuracy: 0.8938 - loss: 0.2920 - val_accuracy: 0.8750 - val_loss: 0.3360\n",
      "Epoch 9/10\n",
      "\u001b[1m1688/1688\u001b[0m \u001b[32m━━━━━━━━━━━━━━━━━━━━\u001b[0m\u001b[37m\u001b[0m \u001b[1m3s\u001b[0m 2ms/step - accuracy: 0.8951 - loss: 0.2838 - val_accuracy: 0.8755 - val_loss: 0.3522\n",
      "Epoch 10/10\n",
      "\u001b[1m1688/1688\u001b[0m \u001b[32m━━━━━━━━━━━━━━━━━━━━\u001b[0m\u001b[37m\u001b[0m \u001b[1m3s\u001b[0m 2ms/step - accuracy: 0.8994 - loss: 0.2751 - val_accuracy: 0.8808 - val_loss: 0.3386\n"
     ]
    },
    {
     "data": {
      "text/plain": [
       "<keras.src.callbacks.history.History at 0x70f8f8859410>"
      ]
     },
     "execution_count": 9,
     "metadata": {},
     "output_type": "execute_result"
    }
   ],
   "source": [
    "model2 = Sequential()\n",
    "model2.add(Dense(50, input_dim=784, activation='relu'))\n",
    "model2.add(Dense(10, activation='softmax'))\n",
    "model2.compile(loss='categorical_crossentropy', optimizer='adam', metrics=['accuracy'])\n",
    "model2.fit(x_train, y_train, epochs=10, validation_split=0.1)\n",
    "\n",
    "#This changes the number of the hidden layer cells. We've increased these from 10 to 50."
   ]
  },
  {
   "cell_type": "markdown",
   "id": "d6c7fc2b",
   "metadata": {},
   "source": [
    "It proves that making a bigger network can increase the performance."
   ]
  },
  {
   "cell_type": "markdown",
   "id": "dc15cf43",
   "metadata": {},
   "source": [
    "## test data"
   ]
  },
  {
   "cell_type": "code",
   "execution_count": 10,
   "id": "6472f423",
   "metadata": {},
   "outputs": [
    {
     "name": "stdout",
     "output_type": "stream",
     "text": [
      "\u001b[1m313/313\u001b[0m \u001b[32m━━━━━━━━━━━━━━━━━━━━\u001b[0m\u001b[37m\u001b[0m \u001b[1m0s\u001b[0m 1ms/step - accuracy: 0.8751 - loss: 0.3514\n",
      "0.8751000165939331\n"
     ]
    }
   ],
   "source": [
    "_, test_acc = model2.evaluate(x_test, y_test)\n",
    "print(test_acc)"
   ]
  },
  {
   "cell_type": "markdown",
   "id": "28065666",
   "metadata": {},
   "source": [
    "# Create a deeper Network "
   ]
  },
  {
   "cell_type": "code",
   "execution_count": 11,
   "id": "bc5c154c",
   "metadata": {},
   "outputs": [
    {
     "name": "stdout",
     "output_type": "stream",
     "text": [
      "Epoch 1/10\n",
      "\u001b[1m1688/1688\u001b[0m \u001b[32m━━━━━━━━━━━━━━━━━━━━\u001b[0m\u001b[37m\u001b[0m \u001b[1m4s\u001b[0m 2ms/step - accuracy: 0.8134 - loss: 0.5314 - val_accuracy: 0.8550 - val_loss: 0.4223\n",
      "Epoch 2/10\n",
      "\u001b[1m1688/1688\u001b[0m \u001b[32m━━━━━━━━━━━━━━━━━━━━\u001b[0m\u001b[37m\u001b[0m \u001b[1m3s\u001b[0m 2ms/step - accuracy: 0.8614 - loss: 0.3879 - val_accuracy: 0.8645 - val_loss: 0.3841\n",
      "Epoch 3/10\n",
      "\u001b[1m1688/1688\u001b[0m \u001b[32m━━━━━━━━━━━━━━━━━━━━\u001b[0m\u001b[37m\u001b[0m \u001b[1m3s\u001b[0m 2ms/step - accuracy: 0.8701 - loss: 0.3529 - val_accuracy: 0.8707 - val_loss: 0.3563\n",
      "Epoch 4/10\n",
      "\u001b[1m1688/1688\u001b[0m \u001b[32m━━━━━━━━━━━━━━━━━━━━\u001b[0m\u001b[37m\u001b[0m \u001b[1m3s\u001b[0m 2ms/step - accuracy: 0.8797 - loss: 0.3300 - val_accuracy: 0.8675 - val_loss: 0.3659\n",
      "Epoch 5/10\n",
      "\u001b[1m1688/1688\u001b[0m \u001b[32m━━━━━━━━━━━━━━━━━━━━\u001b[0m\u001b[37m\u001b[0m \u001b[1m3s\u001b[0m 2ms/step - accuracy: 0.8834 - loss: 0.3142 - val_accuracy: 0.8717 - val_loss: 0.3509\n",
      "Epoch 6/10\n",
      "\u001b[1m1688/1688\u001b[0m \u001b[32m━━━━━━━━━━━━━━━━━━━━\u001b[0m\u001b[37m\u001b[0m \u001b[1m3s\u001b[0m 2ms/step - accuracy: 0.8896 - loss: 0.2989 - val_accuracy: 0.8733 - val_loss: 0.3433\n",
      "Epoch 7/10\n",
      "\u001b[1m1688/1688\u001b[0m \u001b[32m━━━━━━━━━━━━━━━━━━━━\u001b[0m\u001b[37m\u001b[0m \u001b[1m3s\u001b[0m 2ms/step - accuracy: 0.8926 - loss: 0.2879 - val_accuracy: 0.8765 - val_loss: 0.3512\n",
      "Epoch 8/10\n",
      "\u001b[1m1688/1688\u001b[0m \u001b[32m━━━━━━━━━━━━━━━━━━━━\u001b[0m\u001b[37m\u001b[0m \u001b[1m3s\u001b[0m 2ms/step - accuracy: 0.8972 - loss: 0.2780 - val_accuracy: 0.8768 - val_loss: 0.3333\n",
      "Epoch 9/10\n",
      "\u001b[1m1688/1688\u001b[0m \u001b[32m━━━━━━━━━━━━━━━━━━━━\u001b[0m\u001b[37m\u001b[0m \u001b[1m3s\u001b[0m 2ms/step - accuracy: 0.8988 - loss: 0.2727 - val_accuracy: 0.8830 - val_loss: 0.3458\n",
      "Epoch 10/10\n",
      "\u001b[1m1688/1688\u001b[0m \u001b[32m━━━━━━━━━━━━━━━━━━━━\u001b[0m\u001b[37m\u001b[0m \u001b[1m3s\u001b[0m 2ms/step - accuracy: 0.9016 - loss: 0.2631 - val_accuracy: 0.8803 - val_loss: 0.3451\n"
     ]
    },
    {
     "data": {
      "text/plain": [
       "<keras.src.callbacks.history.History at 0x70f8c45cfb10>"
      ]
     },
     "execution_count": 11,
     "metadata": {},
     "output_type": "execute_result"
    }
   ],
   "source": [
    "model3 = Sequential()\n",
    "model3.add(Dense(50, input_dim=784, activation='relu'))\n",
    "model3.add(Dense(50, activation='relu'))\n",
    "model3.add(Dense(10, activation='softmax'))\n",
    "model3.compile(loss='categorical_crossentropy', optimizer='adam', metrics=['accuracy'])\n",
    "model3.fit(x_train, y_train, epochs=10, validation_split=0.1)"
   ]
  },
  {
   "cell_type": "markdown",
   "id": "356dba9a",
   "metadata": {},
   "source": [
    "Validation accuracy increased by 1%. A better performance."
   ]
  },
  {
   "cell_type": "markdown",
   "id": "0bc7b376",
   "metadata": {},
   "source": [
    "## test data\n"
   ]
  },
  {
   "cell_type": "code",
   "execution_count": 12,
   "id": "aa5585c6",
   "metadata": {},
   "outputs": [
    {
     "name": "stdout",
     "output_type": "stream",
     "text": [
      "\u001b[1m313/313\u001b[0m \u001b[32m━━━━━━━━━━━━━━━━━━━━\u001b[0m\u001b[37m\u001b[0m \u001b[1m0s\u001b[0m 1ms/step - accuracy: 0.8754 - loss: 0.3546\n",
      "0.8754000067710876\n"
     ]
    }
   ],
   "source": [
    "_, test_acc = model3.evaluate(x_test, y_test)\n",
    "print(test_acc)"
   ]
  },
  {
   "cell_type": "markdown",
   "id": "aa8050c1",
   "metadata": {},
   "source": [
    "## Convolution neural network"
   ]
  },
  {
   "cell_type": "markdown",
   "id": "472d0e27",
   "metadata": {},
   "source": [
    "A convolutional neural network (CNN) is a neural network that can \"see \" a subset of our data. \n",
    "\n",
    "It can detect a pattern in images better than perceptron. Read more about Convolutional Neural Network Tutorial on my blog post.\n",
    "\n",
    "Let's just apply the CNN to our network:"
   ]
  },
  {
   "cell_type": "code",
   "execution_count": 13,
   "id": "e346149b",
   "metadata": {},
   "outputs": [],
   "source": [
    "from tensorflow.keras.layers import Conv2D, MaxPooling2D, Flatten\n",
    "import numpy as np\n",
    "(x_train, y_train), (x_test, y_test) = fashion_mnist.load_data()\n",
    "x_train = x_train[:,:,:,np.newaxis] / 255.0\n",
    "x_test = x_test[:,:,:,np.newaxis] / 255.0\n",
    "y_train = to_categorical(y_train)\n",
    "y_test = to_categorical(y_test)"
   ]
  },
  {
   "cell_type": "markdown",
   "id": "98bff77f",
   "metadata": {},
   "source": [
    "Let's import the necessary methods and reshape our training data. You can't flatten it because CNN reads our images as is.\n",
    "\n",
    "If you check your x_train, you will have 60,000 x 28 x 28 x 1 data.\n",
    "\n",
    "Why x 1?\n",
    "\n",
    "The data CNN needs to read must be like this: total_data x width x height x channels.\n",
    "\n",
    "Height and width are self-explanatory. Channels are like Red or Green or Blue in RGB images. In RGB, because there are three channels, we need to make the data x 3. But because we work with grayscale images, every value on Red, Green, or Blue channel is the same and we reduce to one channel."
   ]
  },
  {
   "cell_type": "markdown",
   "id": "cb2eebf0",
   "metadata": {},
   "source": [
    "## Architecture "
   ]
  },
  {
   "cell_type": "code",
   "execution_count": 14,
   "id": "53927860",
   "metadata": {},
   "outputs": [
    {
     "name": "stderr",
     "output_type": "stream",
     "text": [
      "/home/melanie.benyadi@Digital-Grenoble.local/anaconda3/envs/ML5/lib/python3.11/site-packages/keras/src/layers/convolutional/base_conv.py:113: UserWarning: Do not pass an `input_shape`/`input_dim` argument to a layer. When using Sequential models, prefer using an `Input(shape)` object as the first layer in the model instead.\n",
      "  super().__init__(activity_regularizer=activity_regularizer, **kwargs)\n"
     ]
    }
   ],
   "source": [
    "model4 = Sequential()\n",
    "model4.add(Conv2D(filters=64, kernel_size=2, padding='same', activation='relu', input_shape=(28,28, 1))) \n",
    "model4.add(MaxPooling2D(pool_size=2))\n",
    "model4.add(Flatten())\n",
    "model4.add(Dense(10, activation='softmax'))\n",
    "model4.compile(loss='categorical_crossentropy', optimizer='adam', metrics=['accuracy'])\n",
    "\n",
    "#The code is a little bit different. There are Conv2D, MaxPooling2D, and Flatten.\n",
    "\n",
    "#These guys are the three most common layers to use in CNN."
   ]
  },
  {
   "cell_type": "code",
   "execution_count": 15,
   "id": "9892e7a5",
   "metadata": {},
   "outputs": [
    {
     "data": {
      "text/html": [
       "<pre style=\"white-space:pre;overflow-x:auto;line-height:normal;font-family:Menlo,'DejaVu Sans Mono',consolas,'Courier New',monospace\"><span style=\"font-weight: bold\">Model: \"sequential_3\"</span>\n",
       "</pre>\n"
      ],
      "text/plain": [
       "\u001b[1mModel: \"sequential_3\"\u001b[0m\n"
      ]
     },
     "metadata": {},
     "output_type": "display_data"
    },
    {
     "data": {
      "text/html": [
       "<pre style=\"white-space:pre;overflow-x:auto;line-height:normal;font-family:Menlo,'DejaVu Sans Mono',consolas,'Courier New',monospace\">┏━━━━━━━━━━━━━━━━━━━━━━━━━━━━━━━━━┳━━━━━━━━━━━━━━━━━━━━━━━━┳━━━━━━━━━━━━━━━┓\n",
       "┃<span style=\"font-weight: bold\"> Layer (type)                    </span>┃<span style=\"font-weight: bold\"> Output Shape           </span>┃<span style=\"font-weight: bold\">       Param # </span>┃\n",
       "┡━━━━━━━━━━━━━━━━━━━━━━━━━━━━━━━━━╇━━━━━━━━━━━━━━━━━━━━━━━━╇━━━━━━━━━━━━━━━┩\n",
       "│ conv2d (<span style=\"color: #0087ff; text-decoration-color: #0087ff\">Conv2D</span>)                 │ (<span style=\"color: #00d7ff; text-decoration-color: #00d7ff\">None</span>, <span style=\"color: #00af00; text-decoration-color: #00af00\">28</span>, <span style=\"color: #00af00; text-decoration-color: #00af00\">28</span>, <span style=\"color: #00af00; text-decoration-color: #00af00\">64</span>)     │           <span style=\"color: #00af00; text-decoration-color: #00af00\">320</span> │\n",
       "├─────────────────────────────────┼────────────────────────┼───────────────┤\n",
       "│ max_pooling2d (<span style=\"color: #0087ff; text-decoration-color: #0087ff\">MaxPooling2D</span>)    │ (<span style=\"color: #00d7ff; text-decoration-color: #00d7ff\">None</span>, <span style=\"color: #00af00; text-decoration-color: #00af00\">14</span>, <span style=\"color: #00af00; text-decoration-color: #00af00\">14</span>, <span style=\"color: #00af00; text-decoration-color: #00af00\">64</span>)     │             <span style=\"color: #00af00; text-decoration-color: #00af00\">0</span> │\n",
       "├─────────────────────────────────┼────────────────────────┼───────────────┤\n",
       "│ flatten (<span style=\"color: #0087ff; text-decoration-color: #0087ff\">Flatten</span>)               │ (<span style=\"color: #00d7ff; text-decoration-color: #00d7ff\">None</span>, <span style=\"color: #00af00; text-decoration-color: #00af00\">12544</span>)          │             <span style=\"color: #00af00; text-decoration-color: #00af00\">0</span> │\n",
       "├─────────────────────────────────┼────────────────────────┼───────────────┤\n",
       "│ dense_7 (<span style=\"color: #0087ff; text-decoration-color: #0087ff\">Dense</span>)                 │ (<span style=\"color: #00d7ff; text-decoration-color: #00d7ff\">None</span>, <span style=\"color: #00af00; text-decoration-color: #00af00\">10</span>)             │       <span style=\"color: #00af00; text-decoration-color: #00af00\">125,450</span> │\n",
       "└─────────────────────────────────┴────────────────────────┴───────────────┘\n",
       "</pre>\n"
      ],
      "text/plain": [
       "┏━━━━━━━━━━━━━━━━━━━━━━━━━━━━━━━━━┳━━━━━━━━━━━━━━━━━━━━━━━━┳━━━━━━━━━━━━━━━┓\n",
       "┃\u001b[1m \u001b[0m\u001b[1mLayer (type)                   \u001b[0m\u001b[1m \u001b[0m┃\u001b[1m \u001b[0m\u001b[1mOutput Shape          \u001b[0m\u001b[1m \u001b[0m┃\u001b[1m \u001b[0m\u001b[1m      Param #\u001b[0m\u001b[1m \u001b[0m┃\n",
       "┡━━━━━━━━━━━━━━━━━━━━━━━━━━━━━━━━━╇━━━━━━━━━━━━━━━━━━━━━━━━╇━━━━━━━━━━━━━━━┩\n",
       "│ conv2d (\u001b[38;5;33mConv2D\u001b[0m)                 │ (\u001b[38;5;45mNone\u001b[0m, \u001b[38;5;34m28\u001b[0m, \u001b[38;5;34m28\u001b[0m, \u001b[38;5;34m64\u001b[0m)     │           \u001b[38;5;34m320\u001b[0m │\n",
       "├─────────────────────────────────┼────────────────────────┼───────────────┤\n",
       "│ max_pooling2d (\u001b[38;5;33mMaxPooling2D\u001b[0m)    │ (\u001b[38;5;45mNone\u001b[0m, \u001b[38;5;34m14\u001b[0m, \u001b[38;5;34m14\u001b[0m, \u001b[38;5;34m64\u001b[0m)     │             \u001b[38;5;34m0\u001b[0m │\n",
       "├─────────────────────────────────┼────────────────────────┼───────────────┤\n",
       "│ flatten (\u001b[38;5;33mFlatten\u001b[0m)               │ (\u001b[38;5;45mNone\u001b[0m, \u001b[38;5;34m12544\u001b[0m)          │             \u001b[38;5;34m0\u001b[0m │\n",
       "├─────────────────────────────────┼────────────────────────┼───────────────┤\n",
       "│ dense_7 (\u001b[38;5;33mDense\u001b[0m)                 │ (\u001b[38;5;45mNone\u001b[0m, \u001b[38;5;34m10\u001b[0m)             │       \u001b[38;5;34m125,450\u001b[0m │\n",
       "└─────────────────────────────────┴────────────────────────┴───────────────┘\n"
      ]
     },
     "metadata": {},
     "output_type": "display_data"
    },
    {
     "data": {
      "text/html": [
       "<pre style=\"white-space:pre;overflow-x:auto;line-height:normal;font-family:Menlo,'DejaVu Sans Mono',consolas,'Courier New',monospace\"><span style=\"font-weight: bold\"> Total params: </span><span style=\"color: #00af00; text-decoration-color: #00af00\">125,770</span> (491.29 KB)\n",
       "</pre>\n"
      ],
      "text/plain": [
       "\u001b[1m Total params: \u001b[0m\u001b[38;5;34m125,770\u001b[0m (491.29 KB)\n"
      ]
     },
     "metadata": {},
     "output_type": "display_data"
    },
    {
     "data": {
      "text/html": [
       "<pre style=\"white-space:pre;overflow-x:auto;line-height:normal;font-family:Menlo,'DejaVu Sans Mono',consolas,'Courier New',monospace\"><span style=\"font-weight: bold\"> Trainable params: </span><span style=\"color: #00af00; text-decoration-color: #00af00\">125,770</span> (491.29 KB)\n",
       "</pre>\n"
      ],
      "text/plain": [
       "\u001b[1m Trainable params: \u001b[0m\u001b[38;5;34m125,770\u001b[0m (491.29 KB)\n"
      ]
     },
     "metadata": {},
     "output_type": "display_data"
    },
    {
     "data": {
      "text/html": [
       "<pre style=\"white-space:pre;overflow-x:auto;line-height:normal;font-family:Menlo,'DejaVu Sans Mono',consolas,'Courier New',monospace\"><span style=\"font-weight: bold\"> Non-trainable params: </span><span style=\"color: #00af00; text-decoration-color: #00af00\">0</span> (0.00 B)\n",
       "</pre>\n"
      ],
      "text/plain": [
       "\u001b[1m Non-trainable params: \u001b[0m\u001b[38;5;34m0\u001b[0m (0.00 B)\n"
      ]
     },
     "metadata": {},
     "output_type": "display_data"
    }
   ],
   "source": [
    "model4.summary()\n",
    "\n",
    "#explian you what is in the network"
   ]
  },
  {
   "cell_type": "markdown",
   "id": "44e43a9e",
   "metadata": {},
   "source": [
    "conv2d changes your 28x28x1 image to 28x28x64. Just imagine this as 64 hidden layer cells.\n",
    "\n",
    "MaxPooling2D reduces the width and height so that you will not need to compute all the cells. It reduces the size to 14x14x64.\n",
    "\n",
    "Finally, flatten just flattens out the output of MaxPooling into a hidden layer of 12544 cells.\n",
    "\n"
   ]
  },
  {
   "cell_type": "code",
   "execution_count": 16,
   "id": "fc8b047a",
   "metadata": {},
   "outputs": [
    {
     "name": "stdout",
     "output_type": "stream",
     "text": [
      "Epoch 1/10\n",
      "\u001b[1m1688/1688\u001b[0m \u001b[32m━━━━━━━━━━━━━━━━━━━━\u001b[0m\u001b[37m\u001b[0m \u001b[1m18s\u001b[0m 10ms/step - accuracy: 0.8509 - loss: 0.4276 - val_accuracy: 0.8768 - val_loss: 0.3370\n",
      "Epoch 2/10\n",
      "\u001b[1m1688/1688\u001b[0m \u001b[32m━━━━━━━━━━━━━━━━━━━━\u001b[0m\u001b[37m\u001b[0m \u001b[1m17s\u001b[0m 10ms/step - accuracy: 0.8923 - loss: 0.3092 - val_accuracy: 0.8968 - val_loss: 0.2932\n",
      "Epoch 3/10\n",
      "\u001b[1m1688/1688\u001b[0m \u001b[32m━━━━━━━━━━━━━━━━━━━━\u001b[0m\u001b[37m\u001b[0m \u001b[1m17s\u001b[0m 10ms/step - accuracy: 0.9019 - loss: 0.2765 - val_accuracy: 0.8982 - val_loss: 0.2887\n",
      "Epoch 4/10\n",
      "\u001b[1m1688/1688\u001b[0m \u001b[32m━━━━━━━━━━━━━━━━━━━━\u001b[0m\u001b[37m\u001b[0m \u001b[1m17s\u001b[0m 10ms/step - accuracy: 0.9089 - loss: 0.2554 - val_accuracy: 0.9005 - val_loss: 0.2770\n",
      "Epoch 5/10\n",
      "\u001b[1m1688/1688\u001b[0m \u001b[32m━━━━━━━━━━━━━━━━━━━━\u001b[0m\u001b[37m\u001b[0m \u001b[1m17s\u001b[0m 10ms/step - accuracy: 0.9144 - loss: 0.2390 - val_accuracy: 0.9038 - val_loss: 0.2706\n",
      "Epoch 6/10\n",
      "\u001b[1m1688/1688\u001b[0m \u001b[32m━━━━━━━━━━━━━━━━━━━━\u001b[0m\u001b[37m\u001b[0m \u001b[1m17s\u001b[0m 10ms/step - accuracy: 0.9198 - loss: 0.2257 - val_accuracy: 0.9010 - val_loss: 0.2793\n",
      "Epoch 7/10\n",
      "\u001b[1m1688/1688\u001b[0m \u001b[32m━━━━━━━━━━━━━━━━━━━━\u001b[0m\u001b[37m\u001b[0m \u001b[1m17s\u001b[0m 10ms/step - accuracy: 0.9243 - loss: 0.2122 - val_accuracy: 0.9048 - val_loss: 0.2706\n",
      "Epoch 8/10\n",
      "\u001b[1m1688/1688\u001b[0m \u001b[32m━━━━━━━━━━━━━━━━━━━━\u001b[0m\u001b[37m\u001b[0m \u001b[1m17s\u001b[0m 10ms/step - accuracy: 0.9268 - loss: 0.2020 - val_accuracy: 0.9048 - val_loss: 0.2710\n",
      "Epoch 9/10\n",
      "\u001b[1m1688/1688\u001b[0m \u001b[32m━━━━━━━━━━━━━━━━━━━━\u001b[0m\u001b[37m\u001b[0m \u001b[1m18s\u001b[0m 10ms/step - accuracy: 0.9311 - loss: 0.1916 - val_accuracy: 0.9080 - val_loss: 0.2672\n",
      "Epoch 10/10\n",
      "\u001b[1m1688/1688\u001b[0m \u001b[32m━━━━━━━━━━━━━━━━━━━━\u001b[0m\u001b[37m\u001b[0m \u001b[1m18s\u001b[0m 10ms/step - accuracy: 0.9348 - loss: 0.1819 - val_accuracy: 0.8970 - val_loss: 0.2878\n"
     ]
    },
    {
     "data": {
      "text/plain": [
       "<keras.src.callbacks.history.History at 0x70f8c41ce1d0>"
      ]
     },
     "execution_count": 16,
     "metadata": {},
     "output_type": "execute_result"
    }
   ],
   "source": [
    "model4.fit(x_train, y_train, epochs=10, validation_split=0.1)\n",
    "\n"
   ]
  },
  {
   "cell_type": "markdown",
   "id": "35bebe9e",
   "metadata": {},
   "source": [
    "The validation result is more than 90%. A single CNN layer can do this."
   ]
  },
  {
   "cell_type": "markdown",
   "id": "b31dac68",
   "metadata": {},
   "source": [
    "## test data"
   ]
  },
  {
   "cell_type": "code",
   "execution_count": 17,
   "id": "ec878a25",
   "metadata": {},
   "outputs": [
    {
     "name": "stdout",
     "output_type": "stream",
     "text": [
      "\u001b[1m313/313\u001b[0m \u001b[32m━━━━━━━━━━━━━━━━━━━━\u001b[0m\u001b[37m\u001b[0m \u001b[1m1s\u001b[0m 4ms/step - accuracy: 0.8960 - loss: 0.2958\n",
      "0.8960000276565552\n"
     ]
    }
   ],
   "source": [
    "_, test_acc = model4.evaluate(x_test, y_test)\n",
    "print(test_acc)"
   ]
  },
  {
   "cell_type": "markdown",
   "id": "85447283",
   "metadata": {},
   "source": [
    "Changing the architecture into a more suitable one really works. And I always suggest you do so."
   ]
  },
  {
   "cell_type": "markdown",
   "id": "a6a87fd5",
   "metadata": {},
   "source": [
    "# Model 5: deepe model- avec 1 couche conv2d et 1 couche pooling"
   ]
  },
  {
   "cell_type": "code",
   "execution_count": null,
   "id": "f78b56a6",
   "metadata": {},
   "outputs": [],
   "source": [
    "#Architecture\n",
    "\n",
    "model5 = Sequential()\n",
    "model5.add(Conv2D(filters=64, kernel_size=2, padding='same', activation='relu', input_shape=(28,28, 1))) \n",
    "model5.add(MaxPooling2D(pool_size=2))\n",
    "model5.add(Conv2D(filters=64, kernel_size=2, padding='same', activation='relu', input_shape=(28,28, 1))) \n",
    "model5.add(MaxPooling2D(pool_size=2))\n",
    "model5.add(Flatten())\n",
    "model5.add(Dense(10, activation='softmax'))\n",
    "model5.compile(loss='categorical_crossentropy', optimizer='adam', metrics=['accuracy'])\n"
   ]
  },
  {
   "cell_type": "code",
   "execution_count": 20,
   "id": "81e935d1",
   "metadata": {},
   "outputs": [
    {
     "name": "stdout",
     "output_type": "stream",
     "text": [
      "Epoch 1/10\n",
      "\u001b[1m1688/1688\u001b[0m \u001b[32m━━━━━━━━━━━━━━━━━━━━\u001b[0m\u001b[37m\u001b[0m \u001b[1m25s\u001b[0m 15ms/step - accuracy: 0.9178 - loss: 0.2292 - val_accuracy: 0.9053 - val_loss: 0.2656\n",
      "Epoch 2/10\n",
      "\u001b[1m1688/1688\u001b[0m \u001b[32m━━━━━━━━━━━━━━━━━━━━\u001b[0m\u001b[37m\u001b[0m \u001b[1m24s\u001b[0m 14ms/step - accuracy: 0.9228 - loss: 0.2121 - val_accuracy: 0.9050 - val_loss: 0.2635\n",
      "Epoch 3/10\n",
      "\u001b[1m1688/1688\u001b[0m \u001b[32m━━━━━━━━━━━━━━━━━━━━\u001b[0m\u001b[37m\u001b[0m \u001b[1m25s\u001b[0m 15ms/step - accuracy: 0.9270 - loss: 0.1999 - val_accuracy: 0.9117 - val_loss: 0.2500\n",
      "Epoch 4/10\n",
      "\u001b[1m1688/1688\u001b[0m \u001b[32m━━━━━━━━━━━━━━━━━━━━\u001b[0m\u001b[37m\u001b[0m \u001b[1m25s\u001b[0m 15ms/step - accuracy: 0.9319 - loss: 0.1862 - val_accuracy: 0.9092 - val_loss: 0.2606\n",
      "Epoch 5/10\n",
      "\u001b[1m1688/1688\u001b[0m \u001b[32m━━━━━━━━━━━━━━━━━━━━\u001b[0m\u001b[37m\u001b[0m \u001b[1m25s\u001b[0m 15ms/step - accuracy: 0.9371 - loss: 0.1740 - val_accuracy: 0.9120 - val_loss: 0.2565\n",
      "Epoch 6/10\n",
      "\u001b[1m1688/1688\u001b[0m \u001b[32m━━━━━━━━━━━━━━━━━━━━\u001b[0m\u001b[37m\u001b[0m \u001b[1m25s\u001b[0m 15ms/step - accuracy: 0.9388 - loss: 0.1655 - val_accuracy: 0.8978 - val_loss: 0.3108\n",
      "Epoch 7/10\n",
      "\u001b[1m1688/1688\u001b[0m \u001b[32m━━━━━━━━━━━━━━━━━━━━\u001b[0m\u001b[37m\u001b[0m \u001b[1m25s\u001b[0m 15ms/step - accuracy: 0.9421 - loss: 0.1563 - val_accuracy: 0.9123 - val_loss: 0.2475\n",
      "Epoch 8/10\n",
      "\u001b[1m1688/1688\u001b[0m \u001b[32m━━━━━━━━━━━━━━━━━━━━\u001b[0m\u001b[37m\u001b[0m \u001b[1m25s\u001b[0m 15ms/step - accuracy: 0.9461 - loss: 0.1495 - val_accuracy: 0.9157 - val_loss: 0.2502\n",
      "Epoch 9/10\n",
      "\u001b[1m1688/1688\u001b[0m \u001b[32m━━━━━━━━━━━━━━━━━━━━\u001b[0m\u001b[37m\u001b[0m \u001b[1m25s\u001b[0m 15ms/step - accuracy: 0.9488 - loss: 0.1407 - val_accuracy: 0.9042 - val_loss: 0.2933\n",
      "Epoch 10/10\n",
      "\u001b[1m1688/1688\u001b[0m \u001b[32m━━━━━━━━━━━━━━━━━━━━\u001b[0m\u001b[37m\u001b[0m \u001b[1m25s\u001b[0m 15ms/step - accuracy: 0.9504 - loss: 0.1357 - val_accuracy: 0.9125 - val_loss: 0.2744\n"
     ]
    },
    {
     "data": {
      "text/plain": [
       "<keras.src.callbacks.history.History at 0x70f8e02f5590>"
      ]
     },
     "execution_count": 20,
     "metadata": {},
     "output_type": "execute_result"
    }
   ],
   "source": [
    "#Train the model\n",
    "model5.fit(x_train, y_train, epochs=10, validation_split=0.1)"
   ]
  },
  {
   "cell_type": "code",
   "execution_count": 21,
   "id": "12789e09",
   "metadata": {},
   "outputs": [
    {
     "name": "stdout",
     "output_type": "stream",
     "text": [
      "\u001b[1m313/313\u001b[0m \u001b[32m━━━━━━━━━━━━━━━━━━━━\u001b[0m\u001b[37m\u001b[0m \u001b[1m2s\u001b[0m 5ms/step - accuracy: 0.9036 - loss: 0.2927\n",
      "0.9035999774932861\n"
     ]
    }
   ],
   "source": [
    "#evaluate test data\n",
    "_, test_acc = model5.evaluate(x_test, y_test)\n",
    "print(test_acc)"
   ]
  },
  {
   "cell_type": "markdown",
   "id": "cb8d3f95",
   "metadata": {},
   "source": [
    "The accuracy inscreases - adding layer increase the accuracy of the model."
   ]
  },
  {
   "cell_type": "markdown",
   "id": "9804c4b5",
   "metadata": {},
   "source": [
    "# Model 6: Add dense layer"
   ]
  },
  {
   "cell_type": "code",
   "execution_count": 25,
   "id": "f773da38",
   "metadata": {},
   "outputs": [
    {
     "name": "stderr",
     "output_type": "stream",
     "text": [
      "/home/melanie.benyadi@Digital-Grenoble.local/anaconda3/envs/ML5/lib/python3.11/site-packages/keras/src/layers/convolutional/base_conv.py:113: UserWarning: Do not pass an `input_shape`/`input_dim` argument to a layer. When using Sequential models, prefer using an `Input(shape)` object as the first layer in the model instead.\n",
      "  super().__init__(activity_regularizer=activity_regularizer, **kwargs)\n"
     ]
    }
   ],
   "source": [
    "#Architecture\n",
    "\n",
    "model6 = Sequential()\n",
    "model6.add(Conv2D(filters=64, kernel_size=2, padding='same', activation='relu', input_shape=(28,28, 1))) \n",
    "model6.add(MaxPooling2D(pool_size=2))\n",
    "model6.add(Conv2D(filters=64, kernel_size=2, padding='same', activation='relu', input_shape=(14,14, 1))) \n",
    "model6.add(MaxPooling2D(pool_size=2))\n",
    "model6.add(Flatten())\n",
    "model6.add(Dense(10, activation='relu'))\n",
    "model6.add(Dense(10, activation='softmax'))\n",
    "model6.compile(loss='categorical_crossentropy', optimizer='adam', metrics=['accuracy'])"
   ]
  },
  {
   "cell_type": "code",
   "execution_count": 26,
   "id": "7359f3c1",
   "metadata": {},
   "outputs": [
    {
     "name": "stdout",
     "output_type": "stream",
     "text": [
      "Epoch 1/10\n",
      "\u001b[1m1688/1688\u001b[0m \u001b[32m━━━━━━━━━━━━━━━━━━━━\u001b[0m\u001b[37m\u001b[0m \u001b[1m27s\u001b[0m 15ms/step - accuracy: 0.7688 - loss: 0.6749 - val_accuracy: 0.8255 - val_loss: 0.4455\n",
      "Epoch 2/10\n",
      "\u001b[1m1688/1688\u001b[0m \u001b[32m━━━━━━━━━━━━━━━━━━━━\u001b[0m\u001b[37m\u001b[0m \u001b[1m26s\u001b[0m 16ms/step - accuracy: 0.8539 - loss: 0.3952 - val_accuracy: 0.8733 - val_loss: 0.3548\n",
      "Epoch 3/10\n",
      "\u001b[1m1688/1688\u001b[0m \u001b[32m━━━━━━━━━━━━━━━━━━━━\u001b[0m\u001b[37m\u001b[0m \u001b[1m25s\u001b[0m 15ms/step - accuracy: 0.8825 - loss: 0.3263 - val_accuracy: 0.8857 - val_loss: 0.3095\n",
      "Epoch 4/10\n",
      "\u001b[1m1688/1688\u001b[0m \u001b[32m━━━━━━━━━━━━━━━━━━━━\u001b[0m\u001b[37m\u001b[0m \u001b[1m25s\u001b[0m 15ms/step - accuracy: 0.8955 - loss: 0.2885 - val_accuracy: 0.8970 - val_loss: 0.2849\n",
      "Epoch 5/10\n",
      "\u001b[1m1688/1688\u001b[0m \u001b[32m━━━━━━━━━━━━━━━━━━━━\u001b[0m\u001b[37m\u001b[0m \u001b[1m25s\u001b[0m 15ms/step - accuracy: 0.9036 - loss: 0.2641 - val_accuracy: 0.9037 - val_loss: 0.2713\n",
      "Epoch 6/10\n",
      "\u001b[1m1688/1688\u001b[0m \u001b[32m━━━━━━━━━━━━━━━━━━━━\u001b[0m\u001b[37m\u001b[0m \u001b[1m25s\u001b[0m 15ms/step - accuracy: 0.9117 - loss: 0.2431 - val_accuracy: 0.9008 - val_loss: 0.2729\n",
      "Epoch 7/10\n",
      "\u001b[1m1688/1688\u001b[0m \u001b[32m━━━━━━━━━━━━━━━━━━━━\u001b[0m\u001b[37m\u001b[0m \u001b[1m25s\u001b[0m 15ms/step - accuracy: 0.9176 - loss: 0.2275 - val_accuracy: 0.9092 - val_loss: 0.2525\n",
      "Epoch 8/10\n",
      "\u001b[1m1688/1688\u001b[0m \u001b[32m━━━━━━━━━━━━━━━━━━━━\u001b[0m\u001b[37m\u001b[0m \u001b[1m25s\u001b[0m 15ms/step - accuracy: 0.9217 - loss: 0.2114 - val_accuracy: 0.9057 - val_loss: 0.2628\n",
      "Epoch 9/10\n",
      "\u001b[1m1688/1688\u001b[0m \u001b[32m━━━━━━━━━━━━━━━━━━━━\u001b[0m\u001b[37m\u001b[0m \u001b[1m25s\u001b[0m 15ms/step - accuracy: 0.9270 - loss: 0.2011 - val_accuracy: 0.9147 - val_loss: 0.2451\n",
      "Epoch 10/10\n",
      "\u001b[1m1688/1688\u001b[0m \u001b[32m━━━━━━━━━━━━━━━━━━━━\u001b[0m\u001b[37m\u001b[0m \u001b[1m25s\u001b[0m 15ms/step - accuracy: 0.9301 - loss: 0.1896 - val_accuracy: 0.9078 - val_loss: 0.2582\n"
     ]
    },
    {
     "data": {
      "text/plain": [
       "<keras.src.callbacks.history.History at 0x70f8e09d5b10>"
      ]
     },
     "execution_count": 26,
     "metadata": {},
     "output_type": "execute_result"
    }
   ],
   "source": [
    "#Train the model\n",
    "model6.fit(x_train, y_train, epochs=10, validation_split=0.1)"
   ]
  },
  {
   "cell_type": "code",
   "execution_count": 27,
   "id": "df38bf58",
   "metadata": {},
   "outputs": [
    {
     "name": "stdout",
     "output_type": "stream",
     "text": [
      "\u001b[1m313/313\u001b[0m \u001b[32m━━━━━━━━━━━━━━━━━━━━\u001b[0m\u001b[37m\u001b[0m \u001b[1m2s\u001b[0m 5ms/step - accuracy: 0.9086 - loss: 0.2717\n",
      "0.9085999727249146\n"
     ]
    }
   ],
   "source": [
    "#evaluate test data\n",
    "_, test_acc = model6.evaluate(x_test, y_test)\n",
    "print(test_acc)"
   ]
  },
  {
   "cell_type": "markdown",
   "id": "b5e05eca",
   "metadata": {},
   "source": [
    "# Model 7: Dropout in Neural Networks"
   ]
  },
  {
   "cell_type": "code",
   "execution_count": 28,
   "id": "da72fa6a",
   "metadata": {},
   "outputs": [],
   "source": [
    "#Import Tensorflow for dropout \n",
    "\n",
    "import tensorflow as tf\n",
    "from tensorflow.keras import layers, models"
   ]
  },
  {
   "cell_type": "code",
   "execution_count": 37,
   "id": "d7e76d55",
   "metadata": {},
   "outputs": [
    {
     "name": "stderr",
     "output_type": "stream",
     "text": [
      "/home/melanie.benyadi@Digital-Grenoble.local/anaconda3/envs/ML5/lib/python3.11/site-packages/keras/src/layers/convolutional/base_conv.py:113: UserWarning: Do not pass an `input_shape`/`input_dim` argument to a layer. When using Sequential models, prefer using an `Input(shape)` object as the first layer in the model instead.\n",
      "  super().__init__(activity_regularizer=activity_regularizer, **kwargs)\n"
     ]
    }
   ],
   "source": [
    "#Architechture\n",
    "model7 = Sequential()\n",
    "model7.add(Conv2D(filters=64, kernel_size=2, padding='same', activation='relu', input_shape=(28,28, 1))) \n",
    "model7.add(MaxPooling2D(pool_size=2))\n",
    "model7.add(Conv2D(filters=64, kernel_size=2, padding='same', activation='relu', input_shape=(14,14, 1))) \n",
    "model7.add(MaxPooling2D(pool_size=2))\n",
    "model7.add(Flatten())\n",
    "model7.add(Dense(10, activation='relu'))\n",
    "model7.add(layers.Dropout(0.05)) #never put it last \n",
    "model7.add(Dense(10, activation='softmax'))\n",
    "model7.compile(loss='categorical_crossentropy', optimizer='adam', metrics=['accuracy'])"
   ]
  },
  {
   "cell_type": "code",
   "execution_count": 38,
   "id": "32898120",
   "metadata": {},
   "outputs": [
    {
     "name": "stdout",
     "output_type": "stream",
     "text": [
      "Epoch 1/10\n",
      "\u001b[1m1688/1688\u001b[0m \u001b[32m━━━━━━━━━━━━━━━━━━━━\u001b[0m\u001b[37m\u001b[0m \u001b[1m25s\u001b[0m 14ms/step - accuracy: 0.7652 - loss: 0.6560 - val_accuracy: 0.8617 - val_loss: 0.3873\n",
      "Epoch 2/10\n",
      "\u001b[1m1688/1688\u001b[0m \u001b[32m━━━━━━━━━━━━━━━━━━━━\u001b[0m\u001b[37m\u001b[0m \u001b[1m26s\u001b[0m 15ms/step - accuracy: 0.8399 - loss: 0.4421 - val_accuracy: 0.8827 - val_loss: 0.3489\n",
      "Epoch 3/10\n",
      "\u001b[1m1688/1688\u001b[0m \u001b[32m━━━━━━━━━━━━━━━━━━━━\u001b[0m\u001b[37m\u001b[0m \u001b[1m25s\u001b[0m 15ms/step - accuracy: 0.8585 - loss: 0.3917 - val_accuracy: 0.8870 - val_loss: 0.3304\n",
      "Epoch 4/10\n",
      "\u001b[1m1688/1688\u001b[0m \u001b[32m━━━━━━━━━━━━━━━━━━━━\u001b[0m\u001b[37m\u001b[0m \u001b[1m24s\u001b[0m 14ms/step - accuracy: 0.8718 - loss: 0.3598 - val_accuracy: 0.8978 - val_loss: 0.2936\n",
      "Epoch 5/10\n",
      "\u001b[1m1688/1688\u001b[0m \u001b[32m━━━━━━━━━━━━━━━━━━━━\u001b[0m\u001b[37m\u001b[0m \u001b[1m24s\u001b[0m 14ms/step - accuracy: 0.8813 - loss: 0.3374 - val_accuracy: 0.9007 - val_loss: 0.2959\n",
      "Epoch 6/10\n",
      "\u001b[1m1688/1688\u001b[0m \u001b[32m━━━━━━━━━━━━━━━━━━━━\u001b[0m\u001b[37m\u001b[0m \u001b[1m24s\u001b[0m 14ms/step - accuracy: 0.8871 - loss: 0.3163 - val_accuracy: 0.9053 - val_loss: 0.2788\n",
      "Epoch 7/10\n",
      "\u001b[1m1688/1688\u001b[0m \u001b[32m━━━━━━━━━━━━━━━━━━━━\u001b[0m\u001b[37m\u001b[0m \u001b[1m24s\u001b[0m 14ms/step - accuracy: 0.8956 - loss: 0.2984 - val_accuracy: 0.9055 - val_loss: 0.2777\n",
      "Epoch 8/10\n",
      "\u001b[1m1688/1688\u001b[0m \u001b[32m━━━━━━━━━━━━━━━━━━━━\u001b[0m\u001b[37m\u001b[0m \u001b[1m24s\u001b[0m 14ms/step - accuracy: 0.8986 - loss: 0.2850 - val_accuracy: 0.9107 - val_loss: 0.2668\n",
      "Epoch 9/10\n",
      "\u001b[1m1688/1688\u001b[0m \u001b[32m━━━━━━━━━━━━━━━━━━━━\u001b[0m\u001b[37m\u001b[0m \u001b[1m24s\u001b[0m 14ms/step - accuracy: 0.9043 - loss: 0.2713 - val_accuracy: 0.9137 - val_loss: 0.2649\n",
      "Epoch 10/10\n",
      "\u001b[1m1688/1688\u001b[0m \u001b[32m━━━━━━━━━━━━━━━━━━━━\u001b[0m\u001b[37m\u001b[0m \u001b[1m25s\u001b[0m 15ms/step - accuracy: 0.9056 - loss: 0.2671 - val_accuracy: 0.9107 - val_loss: 0.2632\n"
     ]
    }
   ],
   "source": [
    "#Train the model\n",
    "history = model7.fit(x_train, y_train, epochs=10, validation_split=0.1)"
   ]
  },
  {
   "cell_type": "code",
   "execution_count": 31,
   "id": "613a3907",
   "metadata": {},
   "outputs": [
    {
     "name": "stdout",
     "output_type": "stream",
     "text": [
      "\u001b[1m313/313\u001b[0m \u001b[32m━━━━━━━━━━━━━━━━━━━━\u001b[0m\u001b[37m\u001b[0m \u001b[1m1s\u001b[0m 4ms/step - accuracy: 0.8822 - loss: 0.3858\n",
      "0.8822000026702881\n"
     ]
    }
   ],
   "source": [
    "#evaluate test data\n",
    "_, test_acc = model7.evaluate(x_test, y_test)\n",
    "print(test_acc)"
   ]
  },
  {
   "cell_type": "code",
   "execution_count": 39,
   "id": "e31a0976",
   "metadata": {},
   "outputs": [
    {
     "data": {
      "image/png": "[encoded data removed]",
      "text/plain": [
       "<Figure size 1000x500 with 1 Axes>"
      ]
     },
     "metadata": {},
     "output_type": "display_data"
    }
   ],
   "source": [
    "# visualize training and validation accuracies\n",
    "import matplotlib.pyplot as plt\n",
    "\n",
    "# Visualization of error evolution\n",
    "plt.figure(figsize=(10, 5))\n",
    "plt.plot(history.history[\"accuracy\"],label = \"training\" )\n",
    "plt.plot(history.history[\"val_accuracy\"],label = \"validation\" )\n",
    "plt.grid(True)\n",
    "plt.xlabel('Epoch')\n",
    "plt.ylabel('Accuracy')\n",
    "plt.title('Error evolution during training')\n",
    "plt.legend()\n",
    "plt.show()"
   ]
  },
  {
   "cell_type": "markdown",
   "id": "9e00483a",
   "metadata": {},
   "source": [
    "# Model 8: Artificially Increase the Dataset "
   ]
  },
  {
   "cell_type": "code",
   "execution_count": null,
   "id": "19164eda",
   "metadata": {},
   "outputs": [],
   "source": [
    "#Using pretraiting layres\n",
    "data_augmentation = tf.keras.Sequential([\n",
    "  layers.RandomFlip(\"horizontal_and_vertical\"),\n",
    "  layers.RandomRotation(0.2),\n",
    "])\n",
    "\n",
    "#Architechture\n",
    "model8 = Sequential()\n",
    "model8.add(Conv2D(filters=64, kernel_size=2, padding='same', activation='relu', input_shape=(28,28, 1))) \n",
    "model8.add(MaxPooling2D(pool_size=2))\n",
    "model8.add(Conv2D(filters=64, kernel_size=2, padding='same', activation='relu', input_shape=(14,14, 1))) \n",
    "model8.add(MaxPooling2D(pool_size=2))\n",
    "model8.add(Flatten())\n",
    "model8.add(Dense(10, activation='relu'))\n",
    "model8.add(layers.Dropout(0.3)) #never put it last \n",
    "model8.add(Dense(10, activation='softmax'))\n",
    "model8.compile(loss='categorical_crossentropy', optimizer='adam', metrics=['accuracy'])"
   ]
  }
 ],
 "metadata": {
  "kernelspec": {
   "display_name": "ML5",
   "language": "python",
   "name": "python3"
  },
  "language_info": {
   "codemirror_mode": {
    "name": "ipython",
    "version": 3
   },
   "file_extension": ".py",
   "mimetype": "text/x-python",
   "name": "python",
   "nbconvert_exporter": "python",
   "pygments_lexer": "ipython3",
   "version": "3.11.13"
  }
 },
 "nbformat": 4,
 "nbformat_minor": 5
}
